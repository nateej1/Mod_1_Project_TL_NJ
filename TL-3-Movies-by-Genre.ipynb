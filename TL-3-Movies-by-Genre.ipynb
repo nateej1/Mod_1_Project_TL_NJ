{
 "cells": [
  {
   "cell_type": "markdown",
   "metadata": {},
   "source": [
    "\n",
    "## Data Analysis\n",
    "1. Genres vs Avg-rating\n",
    "    1. tmdb\n",
    "    2. imdb\n",
    "    3. rt\n",
    "2. Genres vs box \n",
    "    1. tmdb\n",
    "    2. rt_movie    "
   ]
  },
  {
   "cell_type": "markdown",
   "metadata": {},
   "source": [
    "### Import libraries"
   ]
  },
  {
   "cell_type": "code",
   "execution_count": 1,
   "metadata": {},
   "outputs": [],
   "source": [
    "# import libraries \n",
    "import numpy as np\n",
    "import pandas as pd\n",
    "import matplotlib.pyplot as plt\n",
    "%matplotlib inline\n",
    "import seaborn as sns"
   ]
  },
  {
   "cell_type": "markdown",
   "metadata": {},
   "source": [
    "### Load Data"
   ]
  },
  {
   "cell_type": "code",
   "execution_count": 2,
   "metadata": {},
   "outputs": [
    {
     "name": "stdout",
     "output_type": "stream",
     "text": [
      "bom.movie_gross.csv.gz       imdb.title.ratings.csv.gz\r\n",
      "imdb.name.basics.csv.gz      rt.movie_info.tsv.gz\r\n",
      "imdb.title.akas.csv.gz       rt.reviews.tsv.gz\r\n",
      "imdb.title.basics.csv.gz     tmdb.movies.csv.gz\r\n",
      "imdb.title.crew.csv.gz       tn.movie_budgets.csv.gz\r\n",
      "imdb.title.principals.csv.gz\r\n"
     ]
    }
   ],
   "source": [
    "!ls ./data"
   ]
  },
  {
   "cell_type": "code",
   "execution_count": 4,
   "metadata": {},
   "outputs": [],
   "source": [
    "#load datasets\n",
    "bom = pd.read_csv('./data/bom.movie_gross.csv.gz')\n",
    "imdb_name_basics = pd.read_csv('./data/imdb.name.basics.csv.gz')\n",
    "imdb_tl_akas = pd.read_csv('./data/imdb.title.akas.csv.gz')\n",
    "imdb_tl_basics = pd.read_csv('./data/imdb.title.basics.csv.gz')\n",
    "imdb_tl_crew = pd.read_csv('./data/imdb.title.crew.csv.gz')\n",
    "imdb_tl_principals = pd.read_csv('./data/imdb.title.principals.csv.gz')\n",
    "imdb_tl_ratings = pd.read_csv('./data/imdb.title.ratings.csv.gz')\n",
    "rt_movie = pd.read_csv('./data/rt.movie_info.tsv.gz', sep = '\\t')\n",
    "rt_reviews=pd.read_csv('./data/rt.reviews.tsv.gz', sep = '\\t',  encoding='mac_roman')"
   ]
  },
  {
   "cell_type": "code",
   "execution_count": 31,
   "metadata": {},
   "outputs": [],
   "source": [
    "tmdb_movies = pd.read_csv('./data/tmdb.movies.csv.gz')\n",
    "tmdb_budgets = pd.read_csv('./data/tn.movie_budgets.csv.gz')"
   ]
  },
  {
   "cell_type": "markdown",
   "metadata": {},
   "source": [
    "### Slice tmdb: keep movies in 2010-2019"
   ]
  },
  {
   "cell_type": "code",
   "execution_count": 32,
   "metadata": {},
   "outputs": [],
   "source": [
    "# tmdb_movies\n",
    "\n",
    "#'release_date'(2010-11-19): covert to datetime object\n",
    "tmdb_movies['date'] = pd.to_datetime(tmdb_movies['release_date'])\n",
    "# add year & month to tmdb_movies\n",
    "tmdb_movies['year'] = tmdb_movies['date'].dt.year\n",
    "tmdb_movies['month']= tmdb_movies['date'].dt.month"
   ]
  },
  {
   "cell_type": "code",
   "execution_count": 33,
   "metadata": {},
   "outputs": [],
   "source": [
    "# tmdb_budgets\n",
    "\n",
    "# 'release_date'(Dec 18, 2009): covert to datetime object\n",
    "tmdb_budgets['date'] = pd.to_datetime(tmdb_budgets['release_date'])\n",
    "# add year & month to tmdb_budgets\n",
    "tmdb_budgets['year'] = tmdb_budgets['date'].dt.year\n",
    "tmdb_budgets['month'] = tmdb_budgets['date'].dt.month"
   ]
  },
  {
   "cell_type": "markdown",
   "metadata": {},
   "source": [
    "- slicing (2010-2019) "
   ]
  },
  {
   "cell_type": "code",
   "execution_count": 34,
   "metadata": {},
   "outputs": [],
   "source": [
    "# slice tmdb_movies (year 2010-2019)\n",
    "mask = (tmdb_movies['year']<=2019) & (tmdb_movies['year']>=2010)\n",
    "tmdb_movies = tmdb_movies.loc[mask].copy()\n",
    "\n",
    "# slicing tmdb_budgets (year 2010-2019)\n",
    "mask = (tmdb_budgets['year']<=2019) & (tmdb_budgets['year']>=2010)\n",
    "tmdb_budgets = tmdb_budgets.loc[mask].copy()"
   ]
  },
  {
   "cell_type": "markdown",
   "metadata": {},
   "source": [
    "### Genres - \"Avg-rating\"\n",
    "1. tmdb\n",
    "2. imdb\n",
    "3. rt"
   ]
  },
  {
   "cell_type": "markdown",
   "metadata": {},
   "source": [
    "#### tmdb.movies - (Genres - Avg_rating) \n",
    "- tmdb.movies"
   ]
  },
  {
   "cell_type": "markdown",
   "metadata": {},
   "source": [
    "- parse genre_ids \n",
    "\n",
    "```\n",
    "    orginal form:  \n",
    "        movie 1, genre_ids '[12, 14, 10751]'\n",
    "    target form: \n",
    "        movie 1, genre_id 12\n",
    "        movie 1, genre_id 14\n",
    "        movie 1, genre_id 10751\n",
    "```        "
   ]
  },
  {
   "cell_type": "code",
   "execution_count": 36,
   "metadata": {},
   "outputs": [],
   "source": [
    "import string\n",
    "def parse_str(s):\n",
    "    ''' convert s to a list of numbers\n",
    "        example: \n",
    "        input: s = '[12, 14, 10751]'\n",
    "        output: ['12', '14', '10751']   \n",
    "    '''\n",
    "    # strip all punctuation from a string \n",
    "    s = s.translate(str.maketrans('', '', string.punctuation))\n",
    "    # string to list \n",
    "        # alternative: s_list = [int(n) for n in s.split()]\n",
    "    return s.split()"
   ]
  },
  {
   "cell_type": "code",
   "execution_count": 37,
   "metadata": {},
   "outputs": [],
   "source": [
    "# covert genre_ids '[12, 14, 10751]' to  list of int ['12', '14', '10751']\n",
    "tmdb_movies['genre_ids'] = tmdb_movies['genre_ids'].apply(parse_str)"
   ]
  },
  {
   "cell_type": "markdown",
   "metadata": {},
   "source": [
    "- melt based on a col [Ref-mikulskibartosz](https://www.mikulskibartosz.name/how-to-split-a-list-inside-a-dataframe-cell-into-rows-in-pandas/)"
   ]
  },
  {
   "cell_type": "code",
   "execution_count": 41,
   "metadata": {},
   "outputs": [],
   "source": [
    "# df \"tmdb_movies_genre\"  =  a slice of original df \"tmdb_movies\"\n",
    "cols = ['genre_ids','original_title','title', 'vote_average', 'vote_count','popularity','date', 'year', 'month','original_language']\n",
    "tmdb_movies_genre = tmdb_movies[cols].copy() # a slice copy of tmdb_movies"
   ]
  },
  {
   "cell_type": "code",
   "execution_count": 42,
   "metadata": {},
   "outputs": [],
   "source": [
    "# melt tmdb_movies_genre based on ['genre_ids']\n",
    "id_vars = ['original_title','title', 'vote_average', 'vote_count','popularity','date', 'year', 'month','original_language']\n",
    "tmdb_movies_genre = tmdb_movies_genre['genre_ids'].apply(pd.Series)\\\n",
    "                    .merge(tmdb_movies_genre, left_index = True, right_index = True)\\\n",
    "                    .drop([\"genre_ids\"], axis = 1)\\\n",
    "                    .melt(id_vars = id_vars, value_name = \"genre\")"
   ]
  },
  {
   "cell_type": "code",
   "execution_count": 45,
   "metadata": {},
   "outputs": [],
   "source": [
    "# drop col 'variable'\n",
    "tmdb_movies_genre.drop(columns=['variable'], inplace = True)  "
   ]
  },
  {
   "cell_type": "code",
   "execution_count": 46,
   "metadata": {},
   "outputs": [],
   "source": [
    "# drop rows with genre NaN \n",
    "tmdb_movies_genre.dropna(subset = ['genre'], inplace = True)"
   ]
  },
  {
   "cell_type": "markdown",
   "metadata": {},
   "source": [
    "- Check target result"
   ]
  },
  {
   "cell_type": "code",
   "execution_count": 49,
   "metadata": {},
   "outputs": [
    {
     "data": {
      "text/html": [
       "<div>\n",
       "<style scoped>\n",
       "    .dataframe tbody tr th:only-of-type {\n",
       "        vertical-align: middle;\n",
       "    }\n",
       "\n",
       "    .dataframe tbody tr th {\n",
       "        vertical-align: top;\n",
       "    }\n",
       "\n",
       "    .dataframe thead th {\n",
       "        text-align: right;\n",
       "    }\n",
       "</style>\n",
       "<table border=\"1\" class=\"dataframe\">\n",
       "  <thead>\n",
       "    <tr style=\"text-align: right;\">\n",
       "      <th></th>\n",
       "      <th>Unnamed: 0</th>\n",
       "      <th>genre_ids</th>\n",
       "      <th>id</th>\n",
       "      <th>original_language</th>\n",
       "      <th>original_title</th>\n",
       "      <th>popularity</th>\n",
       "      <th>release_date</th>\n",
       "      <th>title</th>\n",
       "      <th>vote_average</th>\n",
       "      <th>vote_count</th>\n",
       "      <th>date</th>\n",
       "      <th>year</th>\n",
       "      <th>month</th>\n",
       "    </tr>\n",
       "  </thead>\n",
       "  <tbody>\n",
       "    <tr>\n",
       "      <th>26355</th>\n",
       "      <td>26355</td>\n",
       "      <td>[99, 12]</td>\n",
       "      <td>564096</td>\n",
       "      <td>en</td>\n",
       "      <td>\"BLESSED\"</td>\n",
       "      <td>0.6</td>\n",
       "      <td>2018-11-23</td>\n",
       "      <td>\"BLESSED\"</td>\n",
       "      <td>7.0</td>\n",
       "      <td>1</td>\n",
       "      <td>2018-11-23</td>\n",
       "      <td>2018</td>\n",
       "      <td>11</td>\n",
       "    </tr>\n",
       "  </tbody>\n",
       "</table>\n",
       "</div>"
      ],
      "text/plain": [
       "       Unnamed: 0 genre_ids      id original_language original_title  \\\n",
       "26355       26355  [99, 12]  564096                en      \"BLESSED\"   \n",
       "\n",
       "       popularity release_date      title  vote_average  vote_count  \\\n",
       "26355         0.6   2018-11-23  \"BLESSED\"           7.0           1   \n",
       "\n",
       "            date  year  month  \n",
       "26355 2018-11-23  2018     11  "
      ]
     },
     "execution_count": 49,
     "metadata": {},
     "output_type": "execute_result"
    }
   ],
   "source": [
    "# check and compare with movie '\"BLESSED\"'\n",
    "mask = tmdb_movies['title'] =='\"BLESSED\"'\n",
    "tmdb_movies[mask]"
   ]
  },
  {
   "cell_type": "code",
   "execution_count": 50,
   "metadata": {
    "scrolled": true
   },
   "outputs": [
    {
     "data": {
      "text/html": [
       "<div>\n",
       "<style scoped>\n",
       "    .dataframe tbody tr th:only-of-type {\n",
       "        vertical-align: middle;\n",
       "    }\n",
       "\n",
       "    .dataframe tbody tr th {\n",
       "        vertical-align: top;\n",
       "    }\n",
       "\n",
       "    .dataframe thead th {\n",
       "        text-align: right;\n",
       "    }\n",
       "</style>\n",
       "<table border=\"1\" class=\"dataframe\">\n",
       "  <thead>\n",
       "    <tr style=\"text-align: right;\">\n",
       "      <th></th>\n",
       "      <th>original_title</th>\n",
       "      <th>title</th>\n",
       "      <th>vote_average</th>\n",
       "      <th>vote_count</th>\n",
       "      <th>popularity</th>\n",
       "      <th>date</th>\n",
       "      <th>year</th>\n",
       "      <th>month</th>\n",
       "      <th>original_language</th>\n",
       "      <th>genre</th>\n",
       "    </tr>\n",
       "  </thead>\n",
       "  <tbody>\n",
       "    <tr>\n",
       "      <th>26129</th>\n",
       "      <td>\"BLESSED\"</td>\n",
       "      <td>\"BLESSED\"</td>\n",
       "      <td>7.0</td>\n",
       "      <td>1</td>\n",
       "      <td>0.6</td>\n",
       "      <td>2018-11-23</td>\n",
       "      <td>2018</td>\n",
       "      <td>11</td>\n",
       "      <td>en</td>\n",
       "      <td>99</td>\n",
       "    </tr>\n",
       "    <tr>\n",
       "      <th>52419</th>\n",
       "      <td>\"BLESSED\"</td>\n",
       "      <td>\"BLESSED\"</td>\n",
       "      <td>7.0</td>\n",
       "      <td>1</td>\n",
       "      <td>0.6</td>\n",
       "      <td>2018-11-23</td>\n",
       "      <td>2018</td>\n",
       "      <td>11</td>\n",
       "      <td>en</td>\n",
       "      <td>12</td>\n",
       "    </tr>\n",
       "    <tr>\n",
       "      <th>33992</th>\n",
       "      <td>\"Legitimate Rape\" Pharmaceutical Ad</td>\n",
       "      <td>\"Legitimate Rape\" Pharmaceutical Ad</td>\n",
       "      <td>2.3</td>\n",
       "      <td>2</td>\n",
       "      <td>0.6</td>\n",
       "      <td>2012-08-28</td>\n",
       "      <td>2012</td>\n",
       "      <td>8</td>\n",
       "      <td>en</td>\n",
       "      <td>80</td>\n",
       "    </tr>\n",
       "  </tbody>\n",
       "</table>\n",
       "</div>"
      ],
      "text/plain": [
       "                            original_title  \\\n",
       "26129                            \"BLESSED\"   \n",
       "52419                            \"BLESSED\"   \n",
       "33992  \"Legitimate Rape\" Pharmaceutical Ad   \n",
       "\n",
       "                                     title  vote_average  vote_count  \\\n",
       "26129                            \"BLESSED\"           7.0           1   \n",
       "52419                            \"BLESSED\"           7.0           1   \n",
       "33992  \"Legitimate Rape\" Pharmaceutical Ad           2.3           2   \n",
       "\n",
       "       popularity       date  year  month original_language genre  \n",
       "26129         0.6 2018-11-23  2018     11                en    99  \n",
       "52419         0.6 2018-11-23  2018     11                en    12  \n",
       "33992         0.6 2012-08-28  2012      8                en    80  "
      ]
     },
     "execution_count": 50,
     "metadata": {},
     "output_type": "execute_result"
    }
   ],
   "source": [
    "# Check \n",
    "tmdb_movies_genre.sort_values('title', axis=0).head(3)"
   ]
  },
  {
   "cell_type": "markdown",
   "metadata": {},
   "source": [
    "#### mapping genres_id to genre "
   ]
  },
  {
   "cell_type": "code",
   "execution_count": 51,
   "metadata": {},
   "outputs": [],
   "source": [
    "tmdb_genres=[{'id': 28, 'name': 'Action'},\n",
    "            {'id': 12, 'name': 'Adventure'},\n",
    "            {'id': 16, 'name': 'Animation'},\n",
    "            {'id': 35, 'name': 'Comedy'},\n",
    "            {'id': 80, 'name': 'Crime'},\n",
    "            {'id': 99, 'name': 'Documentary'},\n",
    "            {'id': 18, 'name': 'Drama'},\n",
    "            {'id': 10751, 'name': 'Family'},\n",
    "            {'id': 14, 'name': 'Fantasy'},\n",
    "            {'id': 36, 'name': 'History'},\n",
    "            {'id': 27, 'name': 'Horror'},\n",
    "            {'id': 10402, 'name': 'Music'},\n",
    "            {'id': 9648, 'name': 'Mystery'},\n",
    "            {'id': 10749, 'name': 'Romance'},\n",
    "            {'id': 878, 'name': 'Science Fiction'},\n",
    "            {'id': 10770, 'name': 'TV Movie'},\n",
    "            {'id': 53, 'name': 'Thriller'},\n",
    "            {'id': 10752, 'name': 'War'},\n",
    "            {'id': 37, 'name': 'Western'}]"
   ]
  },
  {
   "cell_type": "code",
   "execution_count": 52,
   "metadata": {},
   "outputs": [],
   "source": [
    "# mapping genres_id to genre\n",
    "\n",
    "# 1. create a dict with {id_value1:genre1, id_value2:genre2} from tmdb_genres\n",
    "genre_dict = {}\n",
    "for pair in tmdb_genres:\n",
    "    genre_dict[pair['id']] = pair['name']\n",
    "\n",
    "# 'genre' col has dtype (O), convert to int \n",
    "tmdb_movies_genre['genre'] = tmdb_movies_genre['genre'].astype(int) \n",
    "\n",
    "# map genre_id to genre \n",
    "tmdb_movies_genre['genre'] = tmdb_movies_genre['genre'].map(genre_dict)  "
   ]
  },
  {
   "cell_type": "code",
   "execution_count": 53,
   "metadata": {},
   "outputs": [
    {
     "data": {
      "text/html": [
       "<div>\n",
       "<style scoped>\n",
       "    .dataframe tbody tr th:only-of-type {\n",
       "        vertical-align: middle;\n",
       "    }\n",
       "\n",
       "    .dataframe tbody tr th {\n",
       "        vertical-align: top;\n",
       "    }\n",
       "\n",
       "    .dataframe thead th {\n",
       "        text-align: right;\n",
       "    }\n",
       "</style>\n",
       "<table border=\"1\" class=\"dataframe\">\n",
       "  <thead>\n",
       "    <tr style=\"text-align: right;\">\n",
       "      <th></th>\n",
       "      <th>original_title</th>\n",
       "      <th>title</th>\n",
       "      <th>vote_average</th>\n",
       "      <th>vote_count</th>\n",
       "      <th>popularity</th>\n",
       "      <th>date</th>\n",
       "      <th>year</th>\n",
       "      <th>month</th>\n",
       "      <th>original_language</th>\n",
       "      <th>genre</th>\n",
       "    </tr>\n",
       "  </thead>\n",
       "  <tbody>\n",
       "    <tr>\n",
       "      <th>26129</th>\n",
       "      <td>\"BLESSED\"</td>\n",
       "      <td>\"BLESSED\"</td>\n",
       "      <td>7.0</td>\n",
       "      <td>1</td>\n",
       "      <td>0.6</td>\n",
       "      <td>2018-11-23</td>\n",
       "      <td>2018</td>\n",
       "      <td>11</td>\n",
       "      <td>en</td>\n",
       "      <td>Documentary</td>\n",
       "    </tr>\n",
       "    <tr>\n",
       "      <th>52419</th>\n",
       "      <td>\"BLESSED\"</td>\n",
       "      <td>\"BLESSED\"</td>\n",
       "      <td>7.0</td>\n",
       "      <td>1</td>\n",
       "      <td>0.6</td>\n",
       "      <td>2018-11-23</td>\n",
       "      <td>2018</td>\n",
       "      <td>11</td>\n",
       "      <td>en</td>\n",
       "      <td>Adventure</td>\n",
       "    </tr>\n",
       "    <tr>\n",
       "      <th>33992</th>\n",
       "      <td>\"Legitimate Rape\" Pharmaceutical Ad</td>\n",
       "      <td>\"Legitimate Rape\" Pharmaceutical Ad</td>\n",
       "      <td>2.3</td>\n",
       "      <td>2</td>\n",
       "      <td>0.6</td>\n",
       "      <td>2012-08-28</td>\n",
       "      <td>2012</td>\n",
       "      <td>8</td>\n",
       "      <td>en</td>\n",
       "      <td>Crime</td>\n",
       "    </tr>\n",
       "  </tbody>\n",
       "</table>\n",
       "</div>"
      ],
      "text/plain": [
       "                            original_title  \\\n",
       "26129                            \"BLESSED\"   \n",
       "52419                            \"BLESSED\"   \n",
       "33992  \"Legitimate Rape\" Pharmaceutical Ad   \n",
       "\n",
       "                                     title  vote_average  vote_count  \\\n",
       "26129                            \"BLESSED\"           7.0           1   \n",
       "52419                            \"BLESSED\"           7.0           1   \n",
       "33992  \"Legitimate Rape\" Pharmaceutical Ad           2.3           2   \n",
       "\n",
       "       popularity       date  year  month original_language        genre  \n",
       "26129         0.6 2018-11-23  2018     11                en  Documentary  \n",
       "52419         0.6 2018-11-23  2018     11                en    Adventure  \n",
       "33992         0.6 2012-08-28  2012      8                en        Crime  "
      ]
     },
     "execution_count": 53,
     "metadata": {},
     "output_type": "execute_result"
    }
   ],
   "source": [
    "# Check \n",
    "tmdb_movies_genre.sort_values('title', axis=0).head(3)"
   ]
  },
  {
   "cell_type": "markdown",
   "metadata": {},
   "source": [
    "- so far the tmdb_movies_genre has the target format"
   ]
  },
  {
   "cell_type": "markdown",
   "metadata": {},
   "source": [
    "### Vote_count by Genre (tmdb)\n",
    "\n",
    "- Assumptions\n",
    "    1. 1 movie data can contribute to multiple genre\n",
    "\n",
    "- Visualize with raw data\n",
    "    1. 2010-2018 (overall) : vote_count & vote_avg - genre\n",
    "    2. 2010-2018 (each year, trend): vote_count & vote_avg - genre\n",
    "\n",
    "- Beyond raw data \n",
    "    1. most popular movies, their percentage/contribution to genra data (80-20 rule of social phenomen)\n",
    "    2. monthly dependency? \n",
    "    \n",
    "\n",
    "- Null Value \n",
    "    - didn't check for now on purpose\n",
    "    "
   ]
  },
  {
   "cell_type": "markdown",
   "metadata": {},
   "source": [
    "#### groupby only 'genre' (tmdb)\n",
    "\n",
    "- target table with cols: \n",
    "\n",
    "```\n",
    "table fields/cols: \n",
    "    genre,\n",
    "    movie_count,\n",
    "    avg_vote_count, \n",
    "    vote_count_per_movie, \n",
    "    avg_vote_score, \n",
    "    vote_count_per_movie\n",
    "\n",
    "fields details:\n",
    "avg_vote_count: avg_vote_count per genre\n",
    "vote_count_per_movie\n",
    "    : avg_vote_count_per_movie_in_the_genre\n",
    "    : = avg_vote_count/movie_count\n",
    "```\n",
    "\n",
    "- investigate the most popular genre\n",
    "    - skewness? (say, 1 or 2 movies dominate the votes? )"
   ]
  },
  {
   "cell_type": "markdown",
   "metadata": {},
   "source": [
    "#### Stats Table 1. tmdb_genre_vc  "
   ]
  },
  {
   "cell_type": "code",
   "execution_count": 79,
   "metadata": {
    "scrolled": true
   },
   "outputs": [],
   "source": [
    "# tmdb_genre_stats: dataframe, with genre as index\n",
    "tmdb_genre_vc = tmdb_movies_genre.groupby('genre')['vote_count'].describe()\n",
    "# reset index\n",
    "#tmdb_genre_vc.reset_index(inplace = True)\n",
    "# rename column names \n",
    "mapper = {'count':'movie_count',\n",
    "         'mean':'vote_count_avg',\n",
    "         'std':'vote_count_std',}\n",
    "tmdb_genre_vc.rename(columns = mapper, inplace=True)"
   ]
  },
  {
   "cell_type": "code",
   "execution_count": 93,
   "metadata": {},
   "outputs": [
    {
     "data": {
      "text/html": [
       "<div>\n",
       "<style scoped>\n",
       "    .dataframe tbody tr th:only-of-type {\n",
       "        vertical-align: middle;\n",
       "    }\n",
       "\n",
       "    .dataframe tbody tr th {\n",
       "        vertical-align: top;\n",
       "    }\n",
       "\n",
       "    .dataframe thead th {\n",
       "        text-align: right;\n",
       "    }\n",
       "</style>\n",
       "<table border=\"1\" class=\"dataframe\">\n",
       "  <thead>\n",
       "    <tr style=\"text-align: right;\">\n",
       "      <th></th>\n",
       "      <th>movie_count</th>\n",
       "      <th>vote_count_avg</th>\n",
       "      <th>vote_count_std</th>\n",
       "      <th>min</th>\n",
       "      <th>25%</th>\n",
       "      <th>50%</th>\n",
       "      <th>75%</th>\n",
       "      <th>max</th>\n",
       "    </tr>\n",
       "    <tr>\n",
       "      <th>genre</th>\n",
       "      <th></th>\n",
       "      <th></th>\n",
       "      <th></th>\n",
       "      <th></th>\n",
       "      <th></th>\n",
       "      <th></th>\n",
       "      <th></th>\n",
       "      <th></th>\n",
       "    </tr>\n",
       "  </thead>\n",
       "  <tbody>\n",
       "    <tr>\n",
       "      <th>Action</th>\n",
       "      <td>2567.0</td>\n",
       "      <td>712.945462</td>\n",
       "      <td>2098.316280</td>\n",
       "      <td>1.0</td>\n",
       "      <td>4.00</td>\n",
       "      <td>24.0</td>\n",
       "      <td>175.00</td>\n",
       "      <td>22186.0</td>\n",
       "    </tr>\n",
       "    <tr>\n",
       "      <th>Adventure</th>\n",
       "      <td>1368.0</td>\n",
       "      <td>1168.625731</td>\n",
       "      <td>2853.210887</td>\n",
       "      <td>1.0</td>\n",
       "      <td>4.00</td>\n",
       "      <td>29.5</td>\n",
       "      <td>420.50</td>\n",
       "      <td>22186.0</td>\n",
       "    </tr>\n",
       "    <tr>\n",
       "      <th>Animation</th>\n",
       "      <td>1452.0</td>\n",
       "      <td>304.738292</td>\n",
       "      <td>1163.166918</td>\n",
       "      <td>1.0</td>\n",
       "      <td>2.00</td>\n",
       "      <td>9.0</td>\n",
       "      <td>64.25</td>\n",
       "      <td>12691.0</td>\n",
       "    </tr>\n",
       "    <tr>\n",
       "      <th>Comedy</th>\n",
       "      <td>5597.0</td>\n",
       "      <td>238.693050</td>\n",
       "      <td>948.216733</td>\n",
       "      <td>1.0</td>\n",
       "      <td>2.00</td>\n",
       "      <td>9.0</td>\n",
       "      <td>59.00</td>\n",
       "      <td>20175.0</td>\n",
       "    </tr>\n",
       "    <tr>\n",
       "      <th>Crime</th>\n",
       "      <td>1484.0</td>\n",
       "      <td>410.179245</td>\n",
       "      <td>1237.899755</td>\n",
       "      <td>1.0</td>\n",
       "      <td>4.00</td>\n",
       "      <td>19.5</td>\n",
       "      <td>176.00</td>\n",
       "      <td>13933.0</td>\n",
       "    </tr>\n",
       "    <tr>\n",
       "      <th>Documentary</th>\n",
       "      <td>4945.0</td>\n",
       "      <td>12.559151</td>\n",
       "      <td>40.727434</td>\n",
       "      <td>1.0</td>\n",
       "      <td>1.00</td>\n",
       "      <td>3.0</td>\n",
       "      <td>8.00</td>\n",
       "      <td>713.0</td>\n",
       "    </tr>\n",
       "    <tr>\n",
       "      <th>Drama</th>\n",
       "      <td>8207.0</td>\n",
       "      <td>242.684903</td>\n",
       "      <td>953.222677</td>\n",
       "      <td>1.0</td>\n",
       "      <td>3.00</td>\n",
       "      <td>11.0</td>\n",
       "      <td>67.00</td>\n",
       "      <td>18597.0</td>\n",
       "    </tr>\n",
       "    <tr>\n",
       "      <th>Family</th>\n",
       "      <td>1538.0</td>\n",
       "      <td>378.999350</td>\n",
       "      <td>1376.421407</td>\n",
       "      <td>1.0</td>\n",
       "      <td>3.00</td>\n",
       "      <td>12.0</td>\n",
       "      <td>61.75</td>\n",
       "      <td>12691.0</td>\n",
       "    </tr>\n",
       "    <tr>\n",
       "      <th>Fantasy</th>\n",
       "      <td>1113.0</td>\n",
       "      <td>765.440252</td>\n",
       "      <td>2160.438852</td>\n",
       "      <td>1.0</td>\n",
       "      <td>3.00</td>\n",
       "      <td>20.0</td>\n",
       "      <td>168.00</td>\n",
       "      <td>14587.0</td>\n",
       "    </tr>\n",
       "    <tr>\n",
       "      <th>History</th>\n",
       "      <td>611.0</td>\n",
       "      <td>295.702128</td>\n",
       "      <td>933.574584</td>\n",
       "      <td>1.0</td>\n",
       "      <td>2.00</td>\n",
       "      <td>12.0</td>\n",
       "      <td>97.00</td>\n",
       "      <td>10396.0</td>\n",
       "    </tr>\n",
       "    <tr>\n",
       "      <th>Horror</th>\n",
       "      <td>3658.0</td>\n",
       "      <td>131.503827</td>\n",
       "      <td>577.410354</td>\n",
       "      <td>1.0</td>\n",
       "      <td>2.00</td>\n",
       "      <td>7.0</td>\n",
       "      <td>32.00</td>\n",
       "      <td>10931.0</td>\n",
       "    </tr>\n",
       "    <tr>\n",
       "      <th>Music</th>\n",
       "      <td>1251.0</td>\n",
       "      <td>66.936851</td>\n",
       "      <td>424.604997</td>\n",
       "      <td>1.0</td>\n",
       "      <td>1.00</td>\n",
       "      <td>3.0</td>\n",
       "      <td>11.00</td>\n",
       "      <td>7908.0</td>\n",
       "    </tr>\n",
       "    <tr>\n",
       "      <th>Mystery</th>\n",
       "      <td>1223.0</td>\n",
       "      <td>340.786590</td>\n",
       "      <td>1109.963248</td>\n",
       "      <td>1.0</td>\n",
       "      <td>3.50</td>\n",
       "      <td>16.0</td>\n",
       "      <td>108.50</td>\n",
       "      <td>12625.0</td>\n",
       "    </tr>\n",
       "    <tr>\n",
       "      <th>Romance</th>\n",
       "      <td>2294.0</td>\n",
       "      <td>264.404098</td>\n",
       "      <td>932.372046</td>\n",
       "      <td>1.0</td>\n",
       "      <td>4.00</td>\n",
       "      <td>14.0</td>\n",
       "      <td>70.00</td>\n",
       "      <td>12566.0</td>\n",
       "    </tr>\n",
       "    <tr>\n",
       "      <th>Science Fiction</th>\n",
       "      <td>1743.0</td>\n",
       "      <td>672.269650</td>\n",
       "      <td>2216.988022</td>\n",
       "      <td>1.0</td>\n",
       "      <td>3.00</td>\n",
       "      <td>12.0</td>\n",
       "      <td>81.00</td>\n",
       "      <td>22186.0</td>\n",
       "    </tr>\n",
       "    <tr>\n",
       "      <th>TV Movie</th>\n",
       "      <td>1077.0</td>\n",
       "      <td>29.887651</td>\n",
       "      <td>97.619488</td>\n",
       "      <td>1.0</td>\n",
       "      <td>4.00</td>\n",
       "      <td>10.0</td>\n",
       "      <td>22.00</td>\n",
       "      <td>1932.0</td>\n",
       "    </tr>\n",
       "    <tr>\n",
       "      <th>Thriller</th>\n",
       "      <td>4165.0</td>\n",
       "      <td>308.690516</td>\n",
       "      <td>1039.459852</td>\n",
       "      <td>1.0</td>\n",
       "      <td>4.00</td>\n",
       "      <td>15.0</td>\n",
       "      <td>103.00</td>\n",
       "      <td>14056.0</td>\n",
       "    </tr>\n",
       "    <tr>\n",
       "      <th>War</th>\n",
       "      <td>323.0</td>\n",
       "      <td>402.941176</td>\n",
       "      <td>1434.572839</td>\n",
       "      <td>1.0</td>\n",
       "      <td>3.50</td>\n",
       "      <td>20.0</td>\n",
       "      <td>116.00</td>\n",
       "      <td>12566.0</td>\n",
       "    </tr>\n",
       "    <tr>\n",
       "      <th>Western</th>\n",
       "      <td>204.0</td>\n",
       "      <td>454.151961</td>\n",
       "      <td>1811.155283</td>\n",
       "      <td>1.0</td>\n",
       "      <td>1.75</td>\n",
       "      <td>6.5</td>\n",
       "      <td>55.75</td>\n",
       "      <td>15725.0</td>\n",
       "    </tr>\n",
       "  </tbody>\n",
       "</table>\n",
       "</div>"
      ],
      "text/plain": [
       "                 movie_count  vote_count_avg  vote_count_std  min   25%   50%  \\\n",
       "genre                                                                           \n",
       "Action                2567.0      712.945462     2098.316280  1.0  4.00  24.0   \n",
       "Adventure             1368.0     1168.625731     2853.210887  1.0  4.00  29.5   \n",
       "Animation             1452.0      304.738292     1163.166918  1.0  2.00   9.0   \n",
       "Comedy                5597.0      238.693050      948.216733  1.0  2.00   9.0   \n",
       "Crime                 1484.0      410.179245     1237.899755  1.0  4.00  19.5   \n",
       "Documentary           4945.0       12.559151       40.727434  1.0  1.00   3.0   \n",
       "Drama                 8207.0      242.684903      953.222677  1.0  3.00  11.0   \n",
       "Family                1538.0      378.999350     1376.421407  1.0  3.00  12.0   \n",
       "Fantasy               1113.0      765.440252     2160.438852  1.0  3.00  20.0   \n",
       "History                611.0      295.702128      933.574584  1.0  2.00  12.0   \n",
       "Horror                3658.0      131.503827      577.410354  1.0  2.00   7.0   \n",
       "Music                 1251.0       66.936851      424.604997  1.0  1.00   3.0   \n",
       "Mystery               1223.0      340.786590     1109.963248  1.0  3.50  16.0   \n",
       "Romance               2294.0      264.404098      932.372046  1.0  4.00  14.0   \n",
       "Science Fiction       1743.0      672.269650     2216.988022  1.0  3.00  12.0   \n",
       "TV Movie              1077.0       29.887651       97.619488  1.0  4.00  10.0   \n",
       "Thriller              4165.0      308.690516     1039.459852  1.0  4.00  15.0   \n",
       "War                    323.0      402.941176     1434.572839  1.0  3.50  20.0   \n",
       "Western                204.0      454.151961     1811.155283  1.0  1.75   6.5   \n",
       "\n",
       "                    75%      max  \n",
       "genre                             \n",
       "Action           175.00  22186.0  \n",
       "Adventure        420.50  22186.0  \n",
       "Animation         64.25  12691.0  \n",
       "Comedy            59.00  20175.0  \n",
       "Crime            176.00  13933.0  \n",
       "Documentary        8.00    713.0  \n",
       "Drama             67.00  18597.0  \n",
       "Family            61.75  12691.0  \n",
       "Fantasy          168.00  14587.0  \n",
       "History           97.00  10396.0  \n",
       "Horror            32.00  10931.0  \n",
       "Music             11.00   7908.0  \n",
       "Mystery          108.50  12625.0  \n",
       "Romance           70.00  12566.0  \n",
       "Science Fiction   81.00  22186.0  \n",
       "TV Movie          22.00   1932.0  \n",
       "Thriller         103.00  14056.0  \n",
       "War              116.00  12566.0  \n",
       "Western           55.75  15725.0  "
      ]
     },
     "execution_count": 93,
     "metadata": {},
     "output_type": "execute_result"
    }
   ],
   "source": [
    "# Table\n",
    "tmdb_genre_vc"
   ]
  },
  {
   "cell_type": "markdown",
   "metadata": {},
   "source": [
    "#### Plot : Genre - MovieCount (bar plot)"
   ]
  },
  {
   "cell_type": "code",
   "execution_count": 87,
   "metadata": {},
   "outputs": [
    {
     "data": {
      "image/png": "[encoded data removed]",
      "text/plain": [
       "<Figure size 864x432 with 1 Axes>"
      ]
     },
     "metadata": {
      "needs_background": "light"
     },
     "output_type": "display_data"
    }
   ],
   "source": [
    "fig, ax = plt.subplots(figsize = (12,6))\n",
    "data = pd.DataFrame(tmdb_genre_vc['movie_count'].sort_values()).reset_index()\n",
    "sns.barplot(ax = ax, \n",
    "            x = data['genre'], \n",
    "            y = data['movie_count'])\n",
    "plt.xticks(rotation='vertical')\n",
    "plt.title('Movie Counts by Genre (TMDB)');"
   ]
  },
  {
   "cell_type": "markdown",
   "metadata": {},
   "source": [
    "#### Plot : Genre - Vote_count "
   ]
  },
  {
   "cell_type": "code",
   "execution_count": 102,
   "metadata": {},
   "outputs": [
    {
     "data": {
      "image/png": "[encoded data removed]",
      "text/plain": [
       "<Figure size 864x432 with 1 Axes>"
      ]
     },
     "metadata": {
      "needs_background": "light"
     },
     "output_type": "display_data"
    }
   ],
   "source": [
    "# violine plot for all groups \n",
    "fig, ax = plt.subplots(figsize = (12,6))\n",
    "sns.violinplot(x=\"genre\", y=\"vote_count\", data=tmdb_movies_genre[['genre','vote_count']])\n",
    "plt.xticks(rotation='vertical');"
   ]
  },
  {
   "cell_type": "markdown",
   "metadata": {},
   "source": [
    "- Insights of Vote_count by Genre: \n",
    "    - very skewed: see std or compare 75% or 50% with max"
   ]
  },
  {
   "cell_type": "markdown",
   "metadata": {},
   "source": [
    "#### grouby 'genre' &  'year' (tmdb)\n",
    "\n",
    "- gente trend invesgation"
   ]
  },
  {
   "cell_type": "code",
   "execution_count": null,
   "metadata": {},
   "outputs": [],
   "source": []
  },
  {
   "cell_type": "code",
   "execution_count": null,
   "metadata": {},
   "outputs": [],
   "source": []
  },
  {
   "cell_type": "code",
   "execution_count": null,
   "metadata": {},
   "outputs": [],
   "source": []
  }
 ],
 "metadata": {
  "kernelspec": {
   "display_name": "Python 3",
   "language": "python",
   "name": "python3"
  },
  "language_info": {
   "codemirror_mode": {
    "name": "ipython",
    "version": 3
   },
   "file_extension": ".py",
   "mimetype": "text/x-python",
   "name": "python",
   "nbconvert_exporter": "python",
   "pygments_lexer": "ipython3",
   "version": "3.7.3"
  }
 },
 "nbformat": 4,
 "nbformat_minor": 2
}
