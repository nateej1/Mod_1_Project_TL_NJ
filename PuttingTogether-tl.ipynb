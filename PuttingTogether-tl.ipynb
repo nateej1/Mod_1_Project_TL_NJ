{
 "cells": [
  {
   "cell_type": "markdown",
   "metadata": {},
   "source": []
  },
  {
   "cell_type": "markdown",
   "metadata": {},
   "source": [
    "Outline\n",
    "1. Problem Definition\n",
    "    \n",
    "2. Data Source (cite) \n",
    "    \n",
    "\n",
    "3. Data Pre-processing\n",
    "    - Data Merge and Pre-cleaning done in Jupyter notebooks \"Project1_Part1_Data-Merge-Clean-Exporta.ipynb\" & \"Project1_Part1_Data-Merge-Clean-Exportb.ipynb\"\n",
    "        1. Merge 3 Tables from 3 Data Sources (TMDB & BOX & numbers.com)\n",
    "            - \"./data/bom.movie_gross.csv.gz\" :Box Office Mojo data\n",
    "            - \"./data/tmdb.movies.csv.gz\": The Movie Database data\n",
    "            - \"./data/tn.movie_budgets.csv.gz\": The Numbers movie budget data\n",
    "        2. Merged on \"Movie Title\" \n",
    "        3. Removed Duplicates\n",
    "        3. Dropped Columns not Needed\n",
    "        4. Converted Wrong Datatypes \n",
    "            - convert gross, budget data from string datatype to float datatype\n",
    "        5. Export to combined dataset \"tmdb_box_merge_new.csv\"\n",
    "         \n",
    "            \n",
    "4. Data Analysis \n",
    "    1. Correlation Analysis\n",
    "    \n",
    "    2. Polularity Indicators by Genre (Visualization) \n",
    "       1. Movie_Count by Genre\n",
    "       2. Worldwide_Gross/Domestic_Gross/Budget by Genre\n",
    "       3. Vote_Count by Genre\n",
    "       4. Profit by Genre\n",
    "           - Profit = \n",
    "    3. Top 3 Genre of Interest (Based on Profit) \n",
    "        - Top 3 Genre\n",
    "        - Risk Analysis \n",
    "            - Profit Distribution of Movies in each Genre\n",
    "            - "
   ]
  },
  {
   "cell_type": "code",
   "execution_count": null,
   "metadata": {},
   "outputs": [],
   "source": []
  }
 ],
 "metadata": {
  "kernelspec": {
   "display_name": "Python 3",
   "language": "python",
   "name": "python3"
  },
  "language_info": {
   "codemirror_mode": {
    "name": "ipython",
    "version": 3
   },
   "file_extension": ".py",
   "mimetype": "text/x-python",
   "name": "python",
   "nbconvert_exporter": "python",
   "pygments_lexer": "ipython3",
   "version": "3.7.3"
  }
 },
 "nbformat": 4,
 "nbformat_minor": 2
}
